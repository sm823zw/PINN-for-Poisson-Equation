{
 "cells": [
  {
   "cell_type": "code",
   "execution_count": null,
   "metadata": {},
   "outputs": [],
   "source": [
    "import math\n",
    "import numpy as np\n",
    "import pandas as pd\n",
    "from scipy.integrate import solve_bvp\n",
    "import matplotlib.pyplot as plt\n",
    "import matplotlib.axes as axes\n",
    "import matplotlib as mpl"
   ]
  },
  {
   "cell_type": "code",
   "execution_count": null,
   "metadata": {},
   "outputs": [],
   "source": [
    "background = '#D7E5E5'\n",
    "mpl.rcParams['font.family']= 'sans-serif'\n",
    "mpl.rcParams['font.size'] = 12\n",
    "mpl.rcParams['font.weight'] = 'bold'\n",
    "mpl.rcParams['legend.title_fontsize'] = 10\n",
    "mpl.rcParams['savefig.facecolor']= 'white'\n",
    "mpl.rcParams['figure.facecolor'] = 'white'\n",
    "mpl.rcParams['legend.fontsize'] = 10\n",
    "mpl.rcParams['axes.labelweight'] = 'heavy'"
   ]
  },
  {
   "cell_type": "code",
   "execution_count": null,
   "metadata": {},
   "outputs": [],
   "source": [
    "N_A = 1e22\n",
    "t_ox = 1e-9\n",
    "t_si = 5e-7\n",
    "epsilon_0 = 8.85418781e-12\n",
    "epsilon_si = epsilon_0*11.9\n",
    "epsilon_sio2 = epsilon_0*3.9\n",
    "delta_psi_MS = 0.21\n",
    "psi_t = 26e-3\n",
    "n_i = 1e16\n",
    "psi_F = psi_t*math.log(N_A/n_i)\n",
    "q = 1.6e-19\n",
    "\n",
    "def fun(y, psi):\n",
    "    A = q*N_A/epsilon_si\n",
    "    first = psi[1]\n",
    "    second = -A*(np.exp(-psi[0]/psi_t) - 1 - np.exp(-2*psi_F/psi_t)*(np.exp(psi[0]/psi_t) - 1))\n",
    "    return np.array([first, second])\n",
    "\n",
    "def bc(psi_a, psi_b):\n",
    "    Cox = epsilon_sio2/t_ox\n",
    "    B = Cox/epsilon_si\n",
    "    first = +psi_a[1] + B*(Vg - psi_a[0])\n",
    "    second = psi_b[0]\n",
    "    return np.array([first, second])\n",
    "\n",
    "y = np.concatenate([np.linspace(0, 5e-8, 100, endpoint=False), np.linspace(5e-8, 4e-7, 100)])\n",
    "psi = np.zeros((2, y.size))\n",
    "\n",
    "fig, ax = plt.subplots(figsize=(12, 10))\n",
    "fig.set_dpi(200)\n",
    "Vgs = np.concatenate([np.linspace(-2, 0, 100, endpoint=False), np.linspace(0, 1, 50, endpoint=False), np.linspace(1, 2, 100)])\n",
    "\n",
    "psi_out = []\n",
    "for i in Vgs:\n",
    "    Vg = i\n",
    "    sol = solve_bvp(fun, bc, y, psi, tol=1e-3, max_nodes=20000)\n",
    "    plt.plot(y, sol.sol(y)[0], label='$V_{gs}$=' + '%.2f'%i + ' V')\n",
    "    psi_out.append(list(sol.sol(y)[0]))\n",
    "# plt.legend(loc='center right', fontsize=15, bbox_to_anchor=(1.25, 0.5))\n",
    "plt.xlabel(\"Vertical Distance, y (nm)\", fontsize=20)\n",
    "plt.ylabel(\"Potential, $\\psi(y)$    (V)\", fontsize=20)\n",
    "plt.xticks(fontsize=15)\n",
    "plt.yticks(fontsize=15)\n",
    "ticks = ax.get_xticks()[1:]*10**9\n",
    "ax.set_xticklabels(ticks)\n",
    "plt.xlim(0)\n",
    "plt.show()"
   ]
  },
  {
   "cell_type": "code",
   "execution_count": null,
   "metadata": {},
   "outputs": [],
   "source": [
    "psi_out = np.array(psi_out)\n",
    "psi_out = psi_out.flatten()\n",
    "Vgs_1 = []\n",
    "for i in Vgs:\n",
    "    Vgs_1 += [i]*len(list(y))\n",
    "len(Vgs_1)"
   ]
  },
  {
   "cell_type": "code",
   "execution_count": null,
   "metadata": {},
   "outputs": [],
   "source": [
    "df = {'y':list(y)*len(list(Vgs)), 'Vgs':Vgs_1, 'psi': list(psi_out)}\n",
    "df = pd.DataFrame(df)\n",
    "df"
   ]
  },
  {
   "cell_type": "code",
   "execution_count": null,
   "metadata": {},
   "outputs": [],
   "source": [
    "df_b_0 = df[df['y'] == 0]\n",
    "df_b_1 = df[df['y'] == 4e-7]"
   ]
  },
  {
   "cell_type": "code",
   "execution_count": null,
   "metadata": {},
   "outputs": [],
   "source": [
    "df_b_0"
   ]
  },
  {
   "cell_type": "code",
   "execution_count": null,
   "metadata": {},
   "outputs": [],
   "source": [
    "df_b_1"
   ]
  },
  {
   "cell_type": "code",
   "execution_count": null,
   "metadata": {},
   "outputs": [],
   "source": [
    "df.to_csv('../Data/data_y_100_100_58_vgs_100_50_100.csv', header=True, index=False)\n",
    "df_b_0.to_csv('../Data/data_bc1_vgs_100_50_100.csv', header=True, index=False)\n",
    "df_b_1.to_csv('../Data/data_bc2_vgs_100_50_100.csv', header=True, index=False)"
   ]
  },
  {
   "cell_type": "code",
   "execution_count": null,
   "metadata": {},
   "outputs": [],
   "source": [
    "yy = np.linspace(0, 4e-7, 500)\n",
    "psii = np.zeros((2, yy.size))\n",
    "Vgs = np.linspace(-5, 5, 50)\n",
    "psi_zero = []\n",
    "psi_zero_pred = []\n",
    "for i in Vgs:\n",
    "    Vg = i\n",
    "    sol = solve_bvp(fun, bc, yy, psii, tol=1e-3, max_nodes=20000)\n",
    "    psi_zero.append(sol.sol(yy)[0][0])\n",
    "\n",
    "fig, ax = plt.subplots(figsize=(12, 8))\n",
    "fig.set_dpi(200)\n",
    "ax.axvline(-0.6, ls='--', lw=1, c='#000000')\n",
    "ax.axvline(1.2, ls='--', lw=1, c='#000000')\n",
    "fig.text(0.65,0.2,'Strong Inversion', color = 'black', size=15)\n",
    "fig.text(0.48,0.2,'Depletion', color = 'black', size=15)\n",
    "fig.text(0.25,0.2,'Accumulation', color = 'black', size=15)\n",
    "plt.plot(Vgs, psi_zero)\n",
    "plt.xlabel(\"Gate Voltage, $V_{gs}$  (V)\", fontsize=20)\n",
    "plt.ylabel(\"Surface potential, $\\psi(0)$\", fontsize=20)\n",
    "plt.xticks([i for i in range(-5, 6)], fontsize=15)\n",
    "plt.yticks(fontsize=15)\n",
    "plt.show()"
   ]
  },
  {
   "cell_type": "code",
   "execution_count": null,
   "metadata": {},
   "outputs": [],
   "source": []
  }
 ],
 "metadata": {
  "interpreter": {
   "hash": "3ba01e4fa65b88f119ce3c866a0b8e9aa80a952402cad57d84cd82382e74df68"
  },
  "kernelspec": {
   "display_name": "Python 3.7.11 ('torch1.7')",
   "language": "python",
   "name": "python3"
  },
  "language_info": {
   "codemirror_mode": {
    "name": "ipython",
    "version": 3
   },
   "file_extension": ".py",
   "mimetype": "text/x-python",
   "name": "python",
   "nbconvert_exporter": "python",
   "pygments_lexer": "ipython3",
   "version": "3.7.11"
  },
  "orig_nbformat": 4
 },
 "nbformat": 4,
 "nbformat_minor": 2
}
